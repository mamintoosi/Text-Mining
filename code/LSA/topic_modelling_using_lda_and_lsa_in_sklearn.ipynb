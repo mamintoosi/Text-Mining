{
  "cells": [
    {
      "cell_type": "markdown",
      "metadata": {
        "_uuid": "9341bf79ac503efb2b0c19cae84b17b48c30e211",
        "id": "aRgFtE_aCCqD"
      },
      "source": [
        "## Topic Modelling using Latent Semantic Analysis (LSA) and Latent Dirichlet Allocation (LDA) in sklearn"
      ]
    },
    {
      "cell_type": "code",
      "execution_count": null,
      "metadata": {
        "_uuid": "e5d7c8f848246a160104b0002220baf4c95e9eb2",
        "id": "gWuNCQkqCCqG"
      },
      "outputs": [],
      "source": []
    },
    {
      "cell_type": "markdown",
      "metadata": {
        "_uuid": "3f9de996a68ce9d21cb302f795a0c8f667784879",
        "id": "KbOW7_HyCCqH"
      },
      "source": [
        "### **There also exists implementation using the Gensim library. Checkout the same [here](https://www.analyticsvidhya.com/blog/2016/08/beginners-guide-to-topic-modeling-in-python/)  ,   [here](https://nlpforhackers.io/topic-modeling/) and [here](https://www.machinelearningplus.com/nlp/topic-modeling-gensim-python/) and also in [this](https://github.com/susanli2016/NLP-with-Python/blob/master/LDA_news_headlines.ipynb) notebook.**"
      ]
    },
    {
      "cell_type": "code",
      "execution_count": null,
      "metadata": {
        "_uuid": "290af1f20803420483653e4e447732f4658900ec",
        "id": "cfltaQwtCCqH"
      },
      "outputs": [],
      "source": []
    },
    {
      "cell_type": "markdown",
      "metadata": {
        "_uuid": "827e42f1d6fbd87d0858fd90555a280782a2ed73",
        "id": "o-E1eyAZCCqI"
      },
      "source": [
        "## [Please star/upvote in case u like it. ]"
      ]
    },
    {
      "cell_type": "code",
      "execution_count": null,
      "metadata": {
        "_uuid": "87d8d19cf6c49e0af3e33f6ccd77bad5ec5f46a6",
        "id": "n_mDdu23CCqI"
      },
      "outputs": [],
      "source": []
    },
    {
      "cell_type": "markdown",
      "metadata": {
        "_uuid": "6a503c2851673a3d3ec1eb2c3d6c6e5566292af1",
        "id": "eBIDKwUbCCqI"
      },
      "source": [
        "#### IMPORTING MODULES"
      ]
    },
    {
      "cell_type": "code",
      "execution_count": 16,
      "metadata": {
        "_uuid": "39f140e85d319161012fb67f258dd6b339545b0a",
        "id": "5O5_-2kTGD6V",
        "outputId": "7a7e72e2-8b2e-40c2-c3cb-378a1a47c676",
        "colab": {
          "base_uri": "https://localhost:8080/"
        }
      },
      "outputs": [
        {
          "output_type": "stream",
          "name": "stderr",
          "text": [
            "[nltk_data] Downloading package stopwords to /root/nltk_data...\n",
            "[nltk_data]   Package stopwords is already up-to-date!\n",
            "[nltk_data] Downloading package punkt to /root/nltk_data...\n",
            "[nltk_data]   Package punkt is already up-to-date!\n",
            "[nltk_data] Downloading package wordnet to /root/nltk_data...\n"
          ]
        }
      ],
      "source": [
        "# data visualisation and manipulation\n",
        "import numpy as np\n",
        "import pandas as pd\n",
        "import matplotlib.pyplot as plt\n",
        "from matplotlib import style\n",
        "import seaborn as sns\n",
        "#configure\n",
        "# sets matplotlib to inline and displays graphs below the corressponding cell.\n",
        "%matplotlib inline  \n",
        "style.use('fivethirtyeight')\n",
        "sns.set(style='whitegrid',color_codes=True)\n",
        "\n",
        "#import nltk\n",
        "import nltk\n",
        "from nltk.corpus import stopwords\n",
        "from nltk.tokenize import word_tokenize,sent_tokenize\n",
        "\n",
        "#preprocessing\n",
        "from nltk.corpus import stopwords  #stopwords\n",
        "from nltk import word_tokenize,sent_tokenize # tokenizing\n",
        "from nltk.stem import PorterStemmer,LancasterStemmer  # using the Porter Stemmer and Lancaster Stemmer and others\n",
        "from nltk.stem.snowball import SnowballStemmer\n",
        "from nltk.stem import WordNetLemmatizer  # lammatizer from WordNet\n",
        "\n",
        "# for named entity recognition (NER)\n",
        "from nltk import ne_chunk\n",
        "\n",
        "# vectorizers for creating the document-term-matrix (DTM)\n",
        "from sklearn.feature_extraction.text import TfidfVectorizer,CountVectorizer\n",
        "\n",
        "#stop-words\n",
        "nltk.download('stopwords')\n",
        "nltk.download('punkt')\n",
        "nltk.download('wordnet')\n",
        "\n",
        "stop_words=set(nltk.corpus.stopwords.words('english'))"
      ]
    },
    {
      "cell_type": "code",
      "execution_count": 17,
      "metadata": {
        "_uuid": "fd492c7bc386ce83719ea3172baf526b9acaaecb",
        "id": "RF4dy7pJCCqJ",
        "outputId": "50b559e0-d9fb-41d4-8782-ac140772a72c",
        "colab": {
          "base_uri": "https://localhost:8080/"
        }
      },
      "outputs": [
        {
          "output_type": "stream",
          "name": "stdout",
          "text": [
            "--2023-05-26 03:13:52--  https://github.com/franciscadias/data/raw/master/abcnews-date-text.csv\n",
            "Resolving github.com (github.com)... 140.82.113.4\n",
            "Connecting to github.com (github.com)|140.82.113.4|:443... connected.\n",
            "HTTP request sent, awaiting response... 302 Found\n",
            "Location: https://raw.githubusercontent.com/franciscadias/data/master/abcnews-date-text.csv [following]\n",
            "--2023-05-26 03:13:52--  https://raw.githubusercontent.com/franciscadias/data/master/abcnews-date-text.csv\n",
            "Resolving raw.githubusercontent.com (raw.githubusercontent.com)... 185.199.108.133, 185.199.109.133, 185.199.110.133, ...\n",
            "Connecting to raw.githubusercontent.com (raw.githubusercontent.com)|185.199.108.133|:443... connected.\n",
            "HTTP request sent, awaiting response... 200 OK\n",
            "Length: 54096356 (52M) [text/plain]\n",
            "Saving to: ‘abcnews-date-text.csv.1’\n",
            "\n",
            "\rabcnews-date-text.c   0%[                    ]       0  --.-KB/s               \rabcnews-date-text.c 100%[===================>]  51.59M  --.-KB/s    in 0.1s    \n",
            "\n",
            "2023-05-26 03:13:53 (416 MB/s) - ‘abcnews-date-text.csv.1’ saved [54096356/54096356]\n",
            "\n"
          ]
        }
      ],
      "source": [
        "!wget https://github.com/franciscadias/data/raw/master/abcnews-date-text.csv"
      ]
    },
    {
      "cell_type": "markdown",
      "metadata": {
        "_uuid": "a2b520342f1761de78285e76aa6327d9d37b1f4e",
        "id": "ublbSTrnCCqJ"
      },
      "source": [
        "#### LOADING THE DATASET"
      ]
    },
    {
      "cell_type": "code",
      "execution_count": 18,
      "metadata": {
        "_uuid": "aad495ed355e99947bc3b9816cfad0ff430c17e5",
        "id": "xaPWCpthHVIS"
      },
      "outputs": [],
      "source": [
        "df=pd.read_csv(r'abcnews-date-text.csv')"
      ]
    },
    {
      "cell_type": "code",
      "execution_count": 18,
      "metadata": {
        "_uuid": "dcaba93fba40631607159165262af6cb846fa501",
        "id": "PqBDGB9fCCqN"
      },
      "outputs": [],
      "source": []
    },
    {
      "cell_type": "code",
      "execution_count": 19,
      "metadata": {
        "_uuid": "e09dd69ffa2bae1920f3e10b1af0a8ce0f8ae16d",
        "id": "Wwf4uKjTIYm2",
        "outputId": "8a8bccdb-d9cb-438a-a7a0-ea0f28c224a5",
        "colab": {
          "base_uri": "https://localhost:8080/",
          "height": 206
        }
      },
      "outputs": [
        {
          "output_type": "execute_result",
          "data": {
            "text/plain": [
              "   publish_date                                      headline_text\n",
              "0      20030219  aba decides against community broadcasting lic...\n",
              "1      20030219     act fire witnesses must be aware of defamation\n",
              "2      20030219     a g calls for infrastructure protection summit\n",
              "3      20030219           air nz staff in aust strike for pay rise\n",
              "4      20030219      air nz strike to affect australian travellers"
            ],
            "text/html": [
              "\n",
              "  <div id=\"df-08e131a0-1284-4092-ba62-49fc5b56319a\">\n",
              "    <div class=\"colab-df-container\">\n",
              "      <div>\n",
              "<style scoped>\n",
              "    .dataframe tbody tr th:only-of-type {\n",
              "        vertical-align: middle;\n",
              "    }\n",
              "\n",
              "    .dataframe tbody tr th {\n",
              "        vertical-align: top;\n",
              "    }\n",
              "\n",
              "    .dataframe thead th {\n",
              "        text-align: right;\n",
              "    }\n",
              "</style>\n",
              "<table border=\"1\" class=\"dataframe\">\n",
              "  <thead>\n",
              "    <tr style=\"text-align: right;\">\n",
              "      <th></th>\n",
              "      <th>publish_date</th>\n",
              "      <th>headline_text</th>\n",
              "    </tr>\n",
              "  </thead>\n",
              "  <tbody>\n",
              "    <tr>\n",
              "      <th>0</th>\n",
              "      <td>20030219</td>\n",
              "      <td>aba decides against community broadcasting lic...</td>\n",
              "    </tr>\n",
              "    <tr>\n",
              "      <th>1</th>\n",
              "      <td>20030219</td>\n",
              "      <td>act fire witnesses must be aware of defamation</td>\n",
              "    </tr>\n",
              "    <tr>\n",
              "      <th>2</th>\n",
              "      <td>20030219</td>\n",
              "      <td>a g calls for infrastructure protection summit</td>\n",
              "    </tr>\n",
              "    <tr>\n",
              "      <th>3</th>\n",
              "      <td>20030219</td>\n",
              "      <td>air nz staff in aust strike for pay rise</td>\n",
              "    </tr>\n",
              "    <tr>\n",
              "      <th>4</th>\n",
              "      <td>20030219</td>\n",
              "      <td>air nz strike to affect australian travellers</td>\n",
              "    </tr>\n",
              "  </tbody>\n",
              "</table>\n",
              "</div>\n",
              "      <button class=\"colab-df-convert\" onclick=\"convertToInteractive('df-08e131a0-1284-4092-ba62-49fc5b56319a')\"\n",
              "              title=\"Convert this dataframe to an interactive table.\"\n",
              "              style=\"display:none;\">\n",
              "        \n",
              "  <svg xmlns=\"http://www.w3.org/2000/svg\" height=\"24px\"viewBox=\"0 0 24 24\"\n",
              "       width=\"24px\">\n",
              "    <path d=\"M0 0h24v24H0V0z\" fill=\"none\"/>\n",
              "    <path d=\"M18.56 5.44l.94 2.06.94-2.06 2.06-.94-2.06-.94-.94-2.06-.94 2.06-2.06.94zm-11 1L8.5 8.5l.94-2.06 2.06-.94-2.06-.94L8.5 2.5l-.94 2.06-2.06.94zm10 10l.94 2.06.94-2.06 2.06-.94-2.06-.94-.94-2.06-.94 2.06-2.06.94z\"/><path d=\"M17.41 7.96l-1.37-1.37c-.4-.4-.92-.59-1.43-.59-.52 0-1.04.2-1.43.59L10.3 9.45l-7.72 7.72c-.78.78-.78 2.05 0 2.83L4 21.41c.39.39.9.59 1.41.59.51 0 1.02-.2 1.41-.59l7.78-7.78 2.81-2.81c.8-.78.8-2.07 0-2.86zM5.41 20L4 18.59l7.72-7.72 1.47 1.35L5.41 20z\"/>\n",
              "  </svg>\n",
              "      </button>\n",
              "      \n",
              "  <style>\n",
              "    .colab-df-container {\n",
              "      display:flex;\n",
              "      flex-wrap:wrap;\n",
              "      gap: 12px;\n",
              "    }\n",
              "\n",
              "    .colab-df-convert {\n",
              "      background-color: #E8F0FE;\n",
              "      border: none;\n",
              "      border-radius: 50%;\n",
              "      cursor: pointer;\n",
              "      display: none;\n",
              "      fill: #1967D2;\n",
              "      height: 32px;\n",
              "      padding: 0 0 0 0;\n",
              "      width: 32px;\n",
              "    }\n",
              "\n",
              "    .colab-df-convert:hover {\n",
              "      background-color: #E2EBFA;\n",
              "      box-shadow: 0px 1px 2px rgba(60, 64, 67, 0.3), 0px 1px 3px 1px rgba(60, 64, 67, 0.15);\n",
              "      fill: #174EA6;\n",
              "    }\n",
              "\n",
              "    [theme=dark] .colab-df-convert {\n",
              "      background-color: #3B4455;\n",
              "      fill: #D2E3FC;\n",
              "    }\n",
              "\n",
              "    [theme=dark] .colab-df-convert:hover {\n",
              "      background-color: #434B5C;\n",
              "      box-shadow: 0px 1px 3px 1px rgba(0, 0, 0, 0.15);\n",
              "      filter: drop-shadow(0px 1px 2px rgba(0, 0, 0, 0.3));\n",
              "      fill: #FFFFFF;\n",
              "    }\n",
              "  </style>\n",
              "\n",
              "      <script>\n",
              "        const buttonEl =\n",
              "          document.querySelector('#df-08e131a0-1284-4092-ba62-49fc5b56319a button.colab-df-convert');\n",
              "        buttonEl.style.display =\n",
              "          google.colab.kernel.accessAllowed ? 'block' : 'none';\n",
              "\n",
              "        async function convertToInteractive(key) {\n",
              "          const element = document.querySelector('#df-08e131a0-1284-4092-ba62-49fc5b56319a');\n",
              "          const dataTable =\n",
              "            await google.colab.kernel.invokeFunction('convertToInteractive',\n",
              "                                                     [key], {});\n",
              "          if (!dataTable) return;\n",
              "\n",
              "          const docLinkHtml = 'Like what you see? Visit the ' +\n",
              "            '<a target=\"_blank\" href=https://colab.research.google.com/notebooks/data_table.ipynb>data table notebook</a>'\n",
              "            + ' to learn more about interactive tables.';\n",
              "          element.innerHTML = '';\n",
              "          dataTable['output_type'] = 'display_data';\n",
              "          await google.colab.output.renderOutput(dataTable, element);\n",
              "          const docLink = document.createElement('div');\n",
              "          docLink.innerHTML = docLinkHtml;\n",
              "          element.appendChild(docLink);\n",
              "        }\n",
              "      </script>\n",
              "    </div>\n",
              "  </div>\n",
              "  "
            ]
          },
          "metadata": {},
          "execution_count": 19
        }
      ],
      "source": [
        "df.head()"
      ]
    },
    {
      "cell_type": "markdown",
      "metadata": {
        "_uuid": "ece312ea148c498c5584e83f6a36fce2dc236198",
        "id": "NQZ0HC2mCCqO"
      },
      "source": [
        "We will drop the **'publish_date'** column as it is useless for our discussion."
      ]
    },
    {
      "cell_type": "code",
      "execution_count": 20,
      "metadata": {
        "_uuid": "2a6df530624e3b9c3cfb43659ba9c0f67e2aa1d4",
        "id": "wiuusKeEIr_o"
      },
      "outputs": [],
      "source": [
        "# drop the publish date.\n",
        "df.drop(['publish_date'],axis=1,inplace=True)"
      ]
    },
    {
      "cell_type": "code",
      "execution_count": 21,
      "metadata": {
        "_uuid": "bd907b93c352fce35e8e6a886c01e9cf344ce455",
        "id": "FxegmHWtI3eJ",
        "outputId": "7c66b8ed-d6e5-4792-ff0a-539bb981344c",
        "colab": {
          "base_uri": "https://localhost:8080/",
          "height": 363
        }
      },
      "outputs": [
        {
          "output_type": "execute_result",
          "data": {
            "text/plain": [
              "                                       headline_text\n",
              "0  aba decides against community broadcasting lic...\n",
              "1     act fire witnesses must be aware of defamation\n",
              "2     a g calls for infrastructure protection summit\n",
              "3           air nz staff in aust strike for pay rise\n",
              "4      air nz strike to affect australian travellers\n",
              "5                  ambitious olsson wins triple jump\n",
              "6         antic delighted with record breaking barca\n",
              "7  aussie qualifier stosur wastes four memphis match\n",
              "8       aust addresses un security council over iraq\n",
              "9         australia is locked into war timetable opp"
            ],
            "text/html": [
              "\n",
              "  <div id=\"df-986a4d70-ffc8-431e-bab4-d07b2881bb51\">\n",
              "    <div class=\"colab-df-container\">\n",
              "      <div>\n",
              "<style scoped>\n",
              "    .dataframe tbody tr th:only-of-type {\n",
              "        vertical-align: middle;\n",
              "    }\n",
              "\n",
              "    .dataframe tbody tr th {\n",
              "        vertical-align: top;\n",
              "    }\n",
              "\n",
              "    .dataframe thead th {\n",
              "        text-align: right;\n",
              "    }\n",
              "</style>\n",
              "<table border=\"1\" class=\"dataframe\">\n",
              "  <thead>\n",
              "    <tr style=\"text-align: right;\">\n",
              "      <th></th>\n",
              "      <th>headline_text</th>\n",
              "    </tr>\n",
              "  </thead>\n",
              "  <tbody>\n",
              "    <tr>\n",
              "      <th>0</th>\n",
              "      <td>aba decides against community broadcasting lic...</td>\n",
              "    </tr>\n",
              "    <tr>\n",
              "      <th>1</th>\n",
              "      <td>act fire witnesses must be aware of defamation</td>\n",
              "    </tr>\n",
              "    <tr>\n",
              "      <th>2</th>\n",
              "      <td>a g calls for infrastructure protection summit</td>\n",
              "    </tr>\n",
              "    <tr>\n",
              "      <th>3</th>\n",
              "      <td>air nz staff in aust strike for pay rise</td>\n",
              "    </tr>\n",
              "    <tr>\n",
              "      <th>4</th>\n",
              "      <td>air nz strike to affect australian travellers</td>\n",
              "    </tr>\n",
              "    <tr>\n",
              "      <th>5</th>\n",
              "      <td>ambitious olsson wins triple jump</td>\n",
              "    </tr>\n",
              "    <tr>\n",
              "      <th>6</th>\n",
              "      <td>antic delighted with record breaking barca</td>\n",
              "    </tr>\n",
              "    <tr>\n",
              "      <th>7</th>\n",
              "      <td>aussie qualifier stosur wastes four memphis match</td>\n",
              "    </tr>\n",
              "    <tr>\n",
              "      <th>8</th>\n",
              "      <td>aust addresses un security council over iraq</td>\n",
              "    </tr>\n",
              "    <tr>\n",
              "      <th>9</th>\n",
              "      <td>australia is locked into war timetable opp</td>\n",
              "    </tr>\n",
              "  </tbody>\n",
              "</table>\n",
              "</div>\n",
              "      <button class=\"colab-df-convert\" onclick=\"convertToInteractive('df-986a4d70-ffc8-431e-bab4-d07b2881bb51')\"\n",
              "              title=\"Convert this dataframe to an interactive table.\"\n",
              "              style=\"display:none;\">\n",
              "        \n",
              "  <svg xmlns=\"http://www.w3.org/2000/svg\" height=\"24px\"viewBox=\"0 0 24 24\"\n",
              "       width=\"24px\">\n",
              "    <path d=\"M0 0h24v24H0V0z\" fill=\"none\"/>\n",
              "    <path d=\"M18.56 5.44l.94 2.06.94-2.06 2.06-.94-2.06-.94-.94-2.06-.94 2.06-2.06.94zm-11 1L8.5 8.5l.94-2.06 2.06-.94-2.06-.94L8.5 2.5l-.94 2.06-2.06.94zm10 10l.94 2.06.94-2.06 2.06-.94-2.06-.94-.94-2.06-.94 2.06-2.06.94z\"/><path d=\"M17.41 7.96l-1.37-1.37c-.4-.4-.92-.59-1.43-.59-.52 0-1.04.2-1.43.59L10.3 9.45l-7.72 7.72c-.78.78-.78 2.05 0 2.83L4 21.41c.39.39.9.59 1.41.59.51 0 1.02-.2 1.41-.59l7.78-7.78 2.81-2.81c.8-.78.8-2.07 0-2.86zM5.41 20L4 18.59l7.72-7.72 1.47 1.35L5.41 20z\"/>\n",
              "  </svg>\n",
              "      </button>\n",
              "      \n",
              "  <style>\n",
              "    .colab-df-container {\n",
              "      display:flex;\n",
              "      flex-wrap:wrap;\n",
              "      gap: 12px;\n",
              "    }\n",
              "\n",
              "    .colab-df-convert {\n",
              "      background-color: #E8F0FE;\n",
              "      border: none;\n",
              "      border-radius: 50%;\n",
              "      cursor: pointer;\n",
              "      display: none;\n",
              "      fill: #1967D2;\n",
              "      height: 32px;\n",
              "      padding: 0 0 0 0;\n",
              "      width: 32px;\n",
              "    }\n",
              "\n",
              "    .colab-df-convert:hover {\n",
              "      background-color: #E2EBFA;\n",
              "      box-shadow: 0px 1px 2px rgba(60, 64, 67, 0.3), 0px 1px 3px 1px rgba(60, 64, 67, 0.15);\n",
              "      fill: #174EA6;\n",
              "    }\n",
              "\n",
              "    [theme=dark] .colab-df-convert {\n",
              "      background-color: #3B4455;\n",
              "      fill: #D2E3FC;\n",
              "    }\n",
              "\n",
              "    [theme=dark] .colab-df-convert:hover {\n",
              "      background-color: #434B5C;\n",
              "      box-shadow: 0px 1px 3px 1px rgba(0, 0, 0, 0.15);\n",
              "      filter: drop-shadow(0px 1px 2px rgba(0, 0, 0, 0.3));\n",
              "      fill: #FFFFFF;\n",
              "    }\n",
              "  </style>\n",
              "\n",
              "      <script>\n",
              "        const buttonEl =\n",
              "          document.querySelector('#df-986a4d70-ffc8-431e-bab4-d07b2881bb51 button.colab-df-convert');\n",
              "        buttonEl.style.display =\n",
              "          google.colab.kernel.accessAllowed ? 'block' : 'none';\n",
              "\n",
              "        async function convertToInteractive(key) {\n",
              "          const element = document.querySelector('#df-986a4d70-ffc8-431e-bab4-d07b2881bb51');\n",
              "          const dataTable =\n",
              "            await google.colab.kernel.invokeFunction('convertToInteractive',\n",
              "                                                     [key], {});\n",
              "          if (!dataTable) return;\n",
              "\n",
              "          const docLinkHtml = 'Like what you see? Visit the ' +\n",
              "            '<a target=\"_blank\" href=https://colab.research.google.com/notebooks/data_table.ipynb>data table notebook</a>'\n",
              "            + ' to learn more about interactive tables.';\n",
              "          element.innerHTML = '';\n",
              "          dataTable['output_type'] = 'display_data';\n",
              "          await google.colab.output.renderOutput(dataTable, element);\n",
              "          const docLink = document.createElement('div');\n",
              "          docLink.innerHTML = docLinkHtml;\n",
              "          element.appendChild(docLink);\n",
              "        }\n",
              "      </script>\n",
              "    </div>\n",
              "  </div>\n",
              "  "
            ]
          },
          "metadata": {},
          "execution_count": 21
        }
      ],
      "source": [
        "df.head(10)"
      ]
    },
    {
      "cell_type": "code",
      "execution_count": 21,
      "metadata": {
        "_uuid": "81bc140459be85e40f5400b6e26c126385a3d4c6",
        "id": "PcHLV4A4CCqQ"
      },
      "outputs": [],
      "source": []
    },
    {
      "cell_type": "markdown",
      "metadata": {
        "_uuid": "2043c3fc7cb55f29282da53bf8ce8315aec19556",
        "id": "Imfn9JaFCCqR"
      },
      "source": [
        "#### DATA CLEANING & PRE-PROCESSING"
      ]
    },
    {
      "cell_type": "markdown",
      "metadata": {
        "_uuid": "dbd9e74a45cef82d83251327066f919c2a7ee08b",
        "id": "cVDtg3lCCCqR"
      },
      "source": [
        "Here I have done the data pre-processing. I have used the lemmatizer and can also use the stemmer. Also the stop words have been used along with the words wit lenght shorter than 3 characters to reduce some stray words."
      ]
    },
    {
      "cell_type": "code",
      "execution_count": 22,
      "metadata": {
        "_uuid": "c01abf16fc6c3b72873a40246d88f4f2d84af6a6",
        "id": "10MF-YmnI7vp"
      },
      "outputs": [],
      "source": [
        "def clean_text(headline):\n",
        "  le=WordNetLemmatizer()\n",
        "  word_tokens=word_tokenize(headline)\n",
        "  tokens=[le.lemmatize(w) for w in word_tokens if w not in stop_words and len(w)>3]\n",
        "  cleaned_text=\" \".join(tokens)\n",
        "  return cleaned_text\n",
        "  \n",
        "  "
      ]
    },
    {
      "cell_type": "code",
      "execution_count": 23,
      "metadata": {
        "_uuid": "0249f1e9dc0d448aa55778d88b17380cbb099b27",
        "id": "J9cX-1YxSisp"
      },
      "outputs": [],
      "source": [
        "# time taking\n",
        "df['headline_cleaned_text']=df['headline_text'].apply(clean_text)"
      ]
    },
    {
      "cell_type": "code",
      "execution_count": 24,
      "metadata": {
        "_uuid": "c81efcbf76b11b4a08c18e4ce6147fa35bfd2348",
        "id": "Qw6e2o8SSzi2",
        "outputId": "ab146a83-a493-481f-9a4a-57ada33ba6fb",
        "colab": {
          "base_uri": "https://localhost:8080/",
          "height": 206
        }
      },
      "outputs": [
        {
          "output_type": "execute_result",
          "data": {
            "text/plain": [
              "                                       headline_text  \\\n",
              "0  aba decides against community broadcasting lic...   \n",
              "1     act fire witnesses must be aware of defamation   \n",
              "2     a g calls for infrastructure protection summit   \n",
              "3           air nz staff in aust strike for pay rise   \n",
              "4      air nz strike to affect australian travellers   \n",
              "\n",
              "                    headline_cleaned_text  \n",
              "0  decides community broadcasting licence  \n",
              "1      fire witness must aware defamation  \n",
              "2   call infrastructure protection summit  \n",
              "3                  staff aust strike rise  \n",
              "4      strike affect australian traveller  "
            ],
            "text/html": [
              "\n",
              "  <div id=\"df-87b7c0c8-dc72-4b91-bd35-9ee90f58d073\">\n",
              "    <div class=\"colab-df-container\">\n",
              "      <div>\n",
              "<style scoped>\n",
              "    .dataframe tbody tr th:only-of-type {\n",
              "        vertical-align: middle;\n",
              "    }\n",
              "\n",
              "    .dataframe tbody tr th {\n",
              "        vertical-align: top;\n",
              "    }\n",
              "\n",
              "    .dataframe thead th {\n",
              "        text-align: right;\n",
              "    }\n",
              "</style>\n",
              "<table border=\"1\" class=\"dataframe\">\n",
              "  <thead>\n",
              "    <tr style=\"text-align: right;\">\n",
              "      <th></th>\n",
              "      <th>headline_text</th>\n",
              "      <th>headline_cleaned_text</th>\n",
              "    </tr>\n",
              "  </thead>\n",
              "  <tbody>\n",
              "    <tr>\n",
              "      <th>0</th>\n",
              "      <td>aba decides against community broadcasting lic...</td>\n",
              "      <td>decides community broadcasting licence</td>\n",
              "    </tr>\n",
              "    <tr>\n",
              "      <th>1</th>\n",
              "      <td>act fire witnesses must be aware of defamation</td>\n",
              "      <td>fire witness must aware defamation</td>\n",
              "    </tr>\n",
              "    <tr>\n",
              "      <th>2</th>\n",
              "      <td>a g calls for infrastructure protection summit</td>\n",
              "      <td>call infrastructure protection summit</td>\n",
              "    </tr>\n",
              "    <tr>\n",
              "      <th>3</th>\n",
              "      <td>air nz staff in aust strike for pay rise</td>\n",
              "      <td>staff aust strike rise</td>\n",
              "    </tr>\n",
              "    <tr>\n",
              "      <th>4</th>\n",
              "      <td>air nz strike to affect australian travellers</td>\n",
              "      <td>strike affect australian traveller</td>\n",
              "    </tr>\n",
              "  </tbody>\n",
              "</table>\n",
              "</div>\n",
              "      <button class=\"colab-df-convert\" onclick=\"convertToInteractive('df-87b7c0c8-dc72-4b91-bd35-9ee90f58d073')\"\n",
              "              title=\"Convert this dataframe to an interactive table.\"\n",
              "              style=\"display:none;\">\n",
              "        \n",
              "  <svg xmlns=\"http://www.w3.org/2000/svg\" height=\"24px\"viewBox=\"0 0 24 24\"\n",
              "       width=\"24px\">\n",
              "    <path d=\"M0 0h24v24H0V0z\" fill=\"none\"/>\n",
              "    <path d=\"M18.56 5.44l.94 2.06.94-2.06 2.06-.94-2.06-.94-.94-2.06-.94 2.06-2.06.94zm-11 1L8.5 8.5l.94-2.06 2.06-.94-2.06-.94L8.5 2.5l-.94 2.06-2.06.94zm10 10l.94 2.06.94-2.06 2.06-.94-2.06-.94-.94-2.06-.94 2.06-2.06.94z\"/><path d=\"M17.41 7.96l-1.37-1.37c-.4-.4-.92-.59-1.43-.59-.52 0-1.04.2-1.43.59L10.3 9.45l-7.72 7.72c-.78.78-.78 2.05 0 2.83L4 21.41c.39.39.9.59 1.41.59.51 0 1.02-.2 1.41-.59l7.78-7.78 2.81-2.81c.8-.78.8-2.07 0-2.86zM5.41 20L4 18.59l7.72-7.72 1.47 1.35L5.41 20z\"/>\n",
              "  </svg>\n",
              "      </button>\n",
              "      \n",
              "  <style>\n",
              "    .colab-df-container {\n",
              "      display:flex;\n",
              "      flex-wrap:wrap;\n",
              "      gap: 12px;\n",
              "    }\n",
              "\n",
              "    .colab-df-convert {\n",
              "      background-color: #E8F0FE;\n",
              "      border: none;\n",
              "      border-radius: 50%;\n",
              "      cursor: pointer;\n",
              "      display: none;\n",
              "      fill: #1967D2;\n",
              "      height: 32px;\n",
              "      padding: 0 0 0 0;\n",
              "      width: 32px;\n",
              "    }\n",
              "\n",
              "    .colab-df-convert:hover {\n",
              "      background-color: #E2EBFA;\n",
              "      box-shadow: 0px 1px 2px rgba(60, 64, 67, 0.3), 0px 1px 3px 1px rgba(60, 64, 67, 0.15);\n",
              "      fill: #174EA6;\n",
              "    }\n",
              "\n",
              "    [theme=dark] .colab-df-convert {\n",
              "      background-color: #3B4455;\n",
              "      fill: #D2E3FC;\n",
              "    }\n",
              "\n",
              "    [theme=dark] .colab-df-convert:hover {\n",
              "      background-color: #434B5C;\n",
              "      box-shadow: 0px 1px 3px 1px rgba(0, 0, 0, 0.15);\n",
              "      filter: drop-shadow(0px 1px 2px rgba(0, 0, 0, 0.3));\n",
              "      fill: #FFFFFF;\n",
              "    }\n",
              "  </style>\n",
              "\n",
              "      <script>\n",
              "        const buttonEl =\n",
              "          document.querySelector('#df-87b7c0c8-dc72-4b91-bd35-9ee90f58d073 button.colab-df-convert');\n",
              "        buttonEl.style.display =\n",
              "          google.colab.kernel.accessAllowed ? 'block' : 'none';\n",
              "\n",
              "        async function convertToInteractive(key) {\n",
              "          const element = document.querySelector('#df-87b7c0c8-dc72-4b91-bd35-9ee90f58d073');\n",
              "          const dataTable =\n",
              "            await google.colab.kernel.invokeFunction('convertToInteractive',\n",
              "                                                     [key], {});\n",
              "          if (!dataTable) return;\n",
              "\n",
              "          const docLinkHtml = 'Like what you see? Visit the ' +\n",
              "            '<a target=\"_blank\" href=https://colab.research.google.com/notebooks/data_table.ipynb>data table notebook</a>'\n",
              "            + ' to learn more about interactive tables.';\n",
              "          element.innerHTML = '';\n",
              "          dataTable['output_type'] = 'display_data';\n",
              "          await google.colab.output.renderOutput(dataTable, element);\n",
              "          const docLink = document.createElement('div');\n",
              "          docLink.innerHTML = docLinkHtml;\n",
              "          element.appendChild(docLink);\n",
              "        }\n",
              "      </script>\n",
              "    </div>\n",
              "  </div>\n",
              "  "
            ]
          },
          "metadata": {},
          "execution_count": 24
        }
      ],
      "source": [
        "df.head()"
      ]
    },
    {
      "cell_type": "markdown",
      "metadata": {
        "_uuid": "79d7fa2c195ec7a4b5410885cea4dbc7e58db316",
        "id": "Wuos0NVsVJFg"
      },
      "source": [
        "Can see the difference after removal of stopwords and some shorter words. aslo the words have been lemmatized as in **'calls'--->'call'.**"
      ]
    },
    {
      "cell_type": "code",
      "execution_count": 24,
      "metadata": {
        "_uuid": "40712caac928c4a299e7fce7d759f3e9e5555c61",
        "id": "kbMrRcbRCCqS"
      },
      "outputs": [],
      "source": []
    },
    {
      "cell_type": "markdown",
      "metadata": {
        "_uuid": "c46d3085571e5bd3224bfb6a51164816a5e2a613",
        "id": "RDqxfd7VVhJx"
      },
      "source": [
        "Now drop the unpre-processed column."
      ]
    },
    {
      "cell_type": "code",
      "execution_count": 25,
      "metadata": {
        "_uuid": "64cc5de96668ec6e6f37cefb31c349f35ff81771",
        "id": "PTkgClkxV7MP"
      },
      "outputs": [],
      "source": [
        "df.drop(['headline_text'],axis=1,inplace=True)"
      ]
    },
    {
      "cell_type": "code",
      "execution_count": 26,
      "metadata": {
        "_uuid": "dc01093ea4f6bd35e492e5136bec2ef90f8a1bf5",
        "id": "PHPX62iRV_ux",
        "outputId": "edd7fda6-f0e0-4842-d90e-b56ce691b8ae",
        "colab": {
          "base_uri": "https://localhost:8080/",
          "height": 206
        }
      },
      "outputs": [
        {
          "output_type": "execute_result",
          "data": {
            "text/plain": [
              "                    headline_cleaned_text\n",
              "0  decides community broadcasting licence\n",
              "1      fire witness must aware defamation\n",
              "2   call infrastructure protection summit\n",
              "3                  staff aust strike rise\n",
              "4      strike affect australian traveller"
            ],
            "text/html": [
              "\n",
              "  <div id=\"df-51161e89-c045-4a49-9c9a-d339da32be15\">\n",
              "    <div class=\"colab-df-container\">\n",
              "      <div>\n",
              "<style scoped>\n",
              "    .dataframe tbody tr th:only-of-type {\n",
              "        vertical-align: middle;\n",
              "    }\n",
              "\n",
              "    .dataframe tbody tr th {\n",
              "        vertical-align: top;\n",
              "    }\n",
              "\n",
              "    .dataframe thead th {\n",
              "        text-align: right;\n",
              "    }\n",
              "</style>\n",
              "<table border=\"1\" class=\"dataframe\">\n",
              "  <thead>\n",
              "    <tr style=\"text-align: right;\">\n",
              "      <th></th>\n",
              "      <th>headline_cleaned_text</th>\n",
              "    </tr>\n",
              "  </thead>\n",
              "  <tbody>\n",
              "    <tr>\n",
              "      <th>0</th>\n",
              "      <td>decides community broadcasting licence</td>\n",
              "    </tr>\n",
              "    <tr>\n",
              "      <th>1</th>\n",
              "      <td>fire witness must aware defamation</td>\n",
              "    </tr>\n",
              "    <tr>\n",
              "      <th>2</th>\n",
              "      <td>call infrastructure protection summit</td>\n",
              "    </tr>\n",
              "    <tr>\n",
              "      <th>3</th>\n",
              "      <td>staff aust strike rise</td>\n",
              "    </tr>\n",
              "    <tr>\n",
              "      <th>4</th>\n",
              "      <td>strike affect australian traveller</td>\n",
              "    </tr>\n",
              "  </tbody>\n",
              "</table>\n",
              "</div>\n",
              "      <button class=\"colab-df-convert\" onclick=\"convertToInteractive('df-51161e89-c045-4a49-9c9a-d339da32be15')\"\n",
              "              title=\"Convert this dataframe to an interactive table.\"\n",
              "              style=\"display:none;\">\n",
              "        \n",
              "  <svg xmlns=\"http://www.w3.org/2000/svg\" height=\"24px\"viewBox=\"0 0 24 24\"\n",
              "       width=\"24px\">\n",
              "    <path d=\"M0 0h24v24H0V0z\" fill=\"none\"/>\n",
              "    <path d=\"M18.56 5.44l.94 2.06.94-2.06 2.06-.94-2.06-.94-.94-2.06-.94 2.06-2.06.94zm-11 1L8.5 8.5l.94-2.06 2.06-.94-2.06-.94L8.5 2.5l-.94 2.06-2.06.94zm10 10l.94 2.06.94-2.06 2.06-.94-2.06-.94-.94-2.06-.94 2.06-2.06.94z\"/><path d=\"M17.41 7.96l-1.37-1.37c-.4-.4-.92-.59-1.43-.59-.52 0-1.04.2-1.43.59L10.3 9.45l-7.72 7.72c-.78.78-.78 2.05 0 2.83L4 21.41c.39.39.9.59 1.41.59.51 0 1.02-.2 1.41-.59l7.78-7.78 2.81-2.81c.8-.78.8-2.07 0-2.86zM5.41 20L4 18.59l7.72-7.72 1.47 1.35L5.41 20z\"/>\n",
              "  </svg>\n",
              "      </button>\n",
              "      \n",
              "  <style>\n",
              "    .colab-df-container {\n",
              "      display:flex;\n",
              "      flex-wrap:wrap;\n",
              "      gap: 12px;\n",
              "    }\n",
              "\n",
              "    .colab-df-convert {\n",
              "      background-color: #E8F0FE;\n",
              "      border: none;\n",
              "      border-radius: 50%;\n",
              "      cursor: pointer;\n",
              "      display: none;\n",
              "      fill: #1967D2;\n",
              "      height: 32px;\n",
              "      padding: 0 0 0 0;\n",
              "      width: 32px;\n",
              "    }\n",
              "\n",
              "    .colab-df-convert:hover {\n",
              "      background-color: #E2EBFA;\n",
              "      box-shadow: 0px 1px 2px rgba(60, 64, 67, 0.3), 0px 1px 3px 1px rgba(60, 64, 67, 0.15);\n",
              "      fill: #174EA6;\n",
              "    }\n",
              "\n",
              "    [theme=dark] .colab-df-convert {\n",
              "      background-color: #3B4455;\n",
              "      fill: #D2E3FC;\n",
              "    }\n",
              "\n",
              "    [theme=dark] .colab-df-convert:hover {\n",
              "      background-color: #434B5C;\n",
              "      box-shadow: 0px 1px 3px 1px rgba(0, 0, 0, 0.15);\n",
              "      filter: drop-shadow(0px 1px 2px rgba(0, 0, 0, 0.3));\n",
              "      fill: #FFFFFF;\n",
              "    }\n",
              "  </style>\n",
              "\n",
              "      <script>\n",
              "        const buttonEl =\n",
              "          document.querySelector('#df-51161e89-c045-4a49-9c9a-d339da32be15 button.colab-df-convert');\n",
              "        buttonEl.style.display =\n",
              "          google.colab.kernel.accessAllowed ? 'block' : 'none';\n",
              "\n",
              "        async function convertToInteractive(key) {\n",
              "          const element = document.querySelector('#df-51161e89-c045-4a49-9c9a-d339da32be15');\n",
              "          const dataTable =\n",
              "            await google.colab.kernel.invokeFunction('convertToInteractive',\n",
              "                                                     [key], {});\n",
              "          if (!dataTable) return;\n",
              "\n",
              "          const docLinkHtml = 'Like what you see? Visit the ' +\n",
              "            '<a target=\"_blank\" href=https://colab.research.google.com/notebooks/data_table.ipynb>data table notebook</a>'\n",
              "            + ' to learn more about interactive tables.';\n",
              "          element.innerHTML = '';\n",
              "          dataTable['output_type'] = 'display_data';\n",
              "          await google.colab.output.renderOutput(dataTable, element);\n",
              "          const docLink = document.createElement('div');\n",
              "          docLink.innerHTML = docLinkHtml;\n",
              "          element.appendChild(docLink);\n",
              "        }\n",
              "      </script>\n",
              "    </div>\n",
              "  </div>\n",
              "  "
            ]
          },
          "metadata": {},
          "execution_count": 26
        }
      ],
      "source": [
        "df.head()"
      ]
    },
    {
      "cell_type": "code",
      "execution_count": 26,
      "metadata": {
        "_uuid": "9338f9639490e9ef06a76ed818db757d83d6c582",
        "id": "Nure6rtpCCqT"
      },
      "outputs": [],
      "source": []
    },
    {
      "cell_type": "markdown",
      "metadata": {
        "_uuid": "ac1c4d306d9c1ea25c1b28250b386a8d8fde4134",
        "id": "np4Ugh3ECCqT"
      },
      "source": [
        "We can also see any particular news headline."
      ]
    },
    {
      "cell_type": "code",
      "execution_count": 27,
      "metadata": {
        "_uuid": "219d5fa37fbffff1c1acdeb46722a40cee1842a2",
        "id": "zlVvCr7qWkqA",
        "outputId": "61ed3e8c-b758-482d-8f06-d64059d652e4",
        "colab": {
          "base_uri": "https://localhost:8080/",
          "height": 35
        }
      },
      "outputs": [
        {
          "output_type": "execute_result",
          "data": {
            "text/plain": [
              "'decides community broadcasting licence'"
            ],
            "application/vnd.google.colaboratory.intrinsic+json": {
              "type": "string"
            }
          },
          "metadata": {},
          "execution_count": 27
        }
      ],
      "source": [
        "df['headline_cleaned_text'][0]"
      ]
    },
    {
      "cell_type": "code",
      "execution_count": 27,
      "metadata": {
        "_uuid": "feacf23db532c748405fc7b908de218f2511b931",
        "id": "adKrVppiCCqT"
      },
      "outputs": [],
      "source": []
    },
    {
      "cell_type": "markdown",
      "metadata": {
        "_uuid": "d36edc03b2cc88ef61651cd6c9deb470817e64df",
        "id": "yQZpp5YMXPkb"
      },
      "source": [
        "#### EXTRACTING THE FEATURES AND CREATING THE DOCUMENT-TERM-MATRIX ( DTM )\n",
        "\n",
        "In DTM the values are the TFidf values.\n",
        "\n",
        "Also I have specified some parameters of the Tfidf vectorizer.\n",
        "\n",
        "Some important points:-\n",
        "\n",
        "**1) LSA is generally implemented with Tfidf values everywhere and not with the Count Vectorizer.**\n",
        "\n",
        "**2) max_features depends on your computing power and also on eval. metric (coherence score is a metric for topic model). Try the value that gives best eval. metric and doesn't limits processing power.**\n",
        "\n",
        "**3) Default values for min_df & max_df worked well.**\n",
        "\n",
        "**4) Can try different values for ngram_range.**"
      ]
    },
    {
      "cell_type": "code",
      "execution_count": 30,
      "metadata": {
        "_uuid": "d3998f5b7d7eaed5d18d08830d2ba9ba8dd7fcd6",
        "id": "UUxESGqhXX07"
      },
      "outputs": [],
      "source": [
        "vect =TfidfVectorizer(stop_words='english',max_features=1000) # to play with. min_df,max_df,max_features etc..."
      ]
    },
    {
      "cell_type": "code",
      "execution_count": 31,
      "metadata": {
        "_uuid": "00cdefa5281e43ed4cd28af256490cf3cf4dbaf2",
        "id": "z0CezNO4aUoh"
      },
      "outputs": [],
      "source": [
        "vect_text=vect.fit_transform(df['headline_cleaned_text'])"
      ]
    },
    {
      "cell_type": "code",
      "execution_count": 31,
      "metadata": {
        "_uuid": "1fda68dd69c429fff879d660aa0ec7dccec18a64",
        "id": "kvi389SbCCqU"
      },
      "outputs": [],
      "source": []
    },
    {
      "cell_type": "markdown",
      "metadata": {
        "_uuid": "bb0975cb5ba0e82f9e14eba53bd466c26b892a7e",
        "id": "jaiiDiPHCCqU"
      },
      "source": [
        "#### We can now see the most frequent and rare words in the news headlines based on idf score. The lesser the value; more common is the word in the news headlines."
      ]
    },
    {
      "cell_type": "code",
      "execution_count": 32,
      "metadata": {
        "_uuid": "a75bc1a06e66fa4c8615822f703487424761570b",
        "id": "5G-Zt5lUsUjx",
        "outputId": "3146a1f3-aa03-4bdf-974b-e7edd0106447",
        "colab": {
          "base_uri": "https://localhost:8080/"
        }
      },
      "outputs": [
        {
          "output_type": "stream",
          "name": "stdout",
          "text": [
            "(1082168, 1000)\n",
            "  (0, 506)\t0.7808501086213628\n",
            "  (0, 180)\t0.6247184228642579\n",
            "  (1, 983)\t1.0\n",
            "  (2, 854)\t0.588431265740015\n",
            "  (2, 682)\t0.5558728359650339\n",
            "  (2, 439)\t0.5871575902053846\n",
            "  (3, 745)\t0.45561263771118865\n",
            "  (3, 845)\t0.4894613050417399\n",
            "  (3, 53)\t0.5173202827071665\n",
            "  (3, 830)\t0.5340641163048379\n",
            "  (4, 55)\t0.6517883688248135\n",
            "  (4, 845)\t0.7584008981170111\n",
            "  (5, 471)\t0.7945298311708796\n",
            "  (5, 979)\t0.6072251208403467\n",
            "  (6, 710)\t1.0\n",
            "  (7, 541)\t0.5891566785007057\n",
            "  (7, 961)\t0.6169659131661696\n",
            "  (7, 52)\t0.5217733896712735\n",
            "  (8, 451)\t0.42599471057363225\n",
            "  (8, 202)\t0.3474890814735176\n",
            "  (8, 779)\t0.45121644329829264\n",
            "  (8, 12)\t0.526784588388066\n",
            "  (8, 53)\t0.4654906696745199\n",
            "  (9, 54)\t1.0\n",
            "  (10, 555)\t0.64576079135097\n",
            "  :\t:\n",
            "  (1082157, 311)\t0.4472935023390685\n",
            "  (1082158, 942)\t0.6101513895706319\n",
            "  (1082158, 834)\t0.579845157404016\n",
            "  (1082158, 710)\t0.5399026534849953\n",
            "  (1082159, 6)\t0.7509739654481693\n",
            "  (1082159, 269)\t0.6603318129690952\n",
            "  (1082160, 257)\t0.5085761540845598\n",
            "  (1082160, 767)\t0.3378431384332513\n",
            "  (1082160, 971)\t0.4217042958223267\n",
            "  (1082160, 675)\t0.45160114706611626\n",
            "  (1082160, 203)\t0.4954131610723444\n",
            "  (1082163, 985)\t1.0\n",
            "  (1082164, 923)\t0.5341010843199467\n",
            "  (1082164, 243)\t0.4665329836899346\n",
            "  (1082164, 420)\t0.4475901440430147\n",
            "  (1082164, 975)\t0.544744040640352\n",
            "  (1082165, 873)\t0.5952527802068444\n",
            "  (1082165, 303)\t0.5668190544776996\n",
            "  (1082165, 166)\t0.5695527079533806\n",
            "  (1082166, 248)\t0.5187104414270151\n",
            "  (1082166, 991)\t0.4384761848595653\n",
            "  (1082166, 985)\t0.40972377705811047\n",
            "  (1082166, 54)\t0.40328465061052027\n",
            "  (1082166, 979)\t0.4562521565546598\n",
            "  (1082167, 238)\t1.0\n"
          ]
        }
      ],
      "source": [
        "print(vect_text.shape)\n",
        "print(vect_text)"
      ]
    },
    {
      "cell_type": "code",
      "execution_count": 33,
      "metadata": {
        "_uuid": "fdf6846bf90d386f8361467a420af9b40b689521",
        "id": "zbF-rC1va7tP"
      },
      "outputs": [],
      "source": [
        "idf=vect.idf_"
      ]
    },
    {
      "cell_type": "code",
      "execution_count": 35,
      "metadata": {
        "_uuid": "b5dc9f0d99d949a36cdb00be41b5ba4a424f093c",
        "id": "a0wQG_tZm53A",
        "outputId": "a9e89561-02ec-4e17-9f5c-aec82e2dc4bd",
        "colab": {
          "base_uri": "https://localhost:8080/"
        }
      },
      "outputs": [
        {
          "output_type": "stream",
          "name": "stdout",
          "text": [
            "police justice\n",
            "4.421282814390084\n",
            "7.939839053547438\n"
          ]
        }
      ],
      "source": [
        "dd=dict(zip(vect.get_feature_names_out(), idf))\n",
        "l=sorted(dd, key=(dd).get)\n",
        "# print(l)\n",
        "print(l[0],l[-1])\n",
        "print(dd['police'])\n",
        "print(dd['forecast'])  # police is most common and forecast is least common among the news headlines."
      ]
    },
    {
      "cell_type": "markdown",
      "metadata": {
        "_uuid": "868e6b05bc280289edea4e14b31c98a435d8ebbc",
        "id": "l9xNzuknCCqx"
      },
      "source": [
        "We can therefore see that on the basis of the **idf value** , **'police'** is the **most frequent** word while **'forecast'** is **least frequently** occuring among the news."
      ]
    },
    {
      "cell_type": "code",
      "execution_count": 35,
      "metadata": {
        "_uuid": "c2ed01a1ea2413b95aa748487111c0ca6cc4e7ec",
        "id": "FFn_h2IRCCqx"
      },
      "outputs": [],
      "source": []
    },
    {
      "cell_type": "markdown",
      "metadata": {
        "_uuid": "3b96bb00ba3313b3fcab6735e73c56e89fc74365",
        "id": "_hgCuBqJCCqy"
      },
      "source": [
        "### TOPIC MODELLING"
      ]
    },
    {
      "cell_type": "code",
      "execution_count": 35,
      "metadata": {
        "_uuid": "4ce3e769f54ef00290465cd8b1d7bd4089df71ea",
        "id": "XMuKIQY5CCqy"
      },
      "outputs": [],
      "source": []
    },
    {
      "cell_type": "markdown",
      "metadata": {
        "_uuid": "0bad03b7f6b2b69cd4554ec9e7681b430dfe4e10",
        "id": "JLIA-ByvCCqy"
      },
      "source": [
        "## Latent Semantic Analysis (LSA)"
      ]
    },
    {
      "cell_type": "markdown",
      "metadata": {
        "_uuid": "c0d4b13524635aefa5e44f780efeec9b55ca6e58",
        "id": "Rks1g8s2CCqy"
      },
      "source": [
        "The first approach that I have used is the LSA. **LSA is basically singular value decomposition.**\n",
        "\n",
        "**SVD decomposes the original DTM into three matrices S=U.(sigma).(V.T). Here the matrix U denotes the document-topic matrix while (V) is the topic-term matrix.**\n",
        "\n",
        "**Each row of the matrix U(document-term matrix) is the vector representation of the corresponding document. The length of these vectors is the number of desired topics. Vector representation for the terms in our data can be found in the matrix V (term-topic matrix).**\n",
        "\n",
        "So, SVD gives us vectors for every document and term in our data. The length of each vector would be k. **We can then use these vectors to find similar words and similar documents using the cosine similarity method.**\n",
        "\n",
        "We can use the truncatedSVD function to implement LSA. The n_components parameter is the number of topics we wish to extract.\n",
        "The model is then fit and transformed on the result given by vectorizer. \n",
        "\n",
        "**Lastly note that LSA and LSI (I for indexing) are the same and the later is just sometimes used in information retrieval contexts.**"
      ]
    },
    {
      "cell_type": "code",
      "execution_count": 36,
      "metadata": {
        "_uuid": "ac483df5e69eeb2b4b71af956c6987896eda7eb6",
        "id": "9xuGfFdtqTp5"
      },
      "outputs": [],
      "source": [
        "from sklearn.decomposition import TruncatedSVD\n",
        "lsa_model = TruncatedSVD(n_components=10, algorithm='randomized', n_iter=10, random_state=42)\n",
        "\n",
        "lsa_top=lsa_model.fit_transform(vect_text)\n"
      ]
    },
    {
      "cell_type": "code",
      "execution_count": 37,
      "metadata": {
        "_uuid": "0a8f4620d3c71db1275e4b5662bf4ab32c598266",
        "id": "KdaVWPC6xmq-",
        "outputId": "d318e8b8-8ad0-4223-e0ae-00cafea9e8fd",
        "colab": {
          "base_uri": "https://localhost:8080/"
        }
      },
      "outputs": [
        {
          "output_type": "stream",
          "name": "stdout",
          "text": [
            "[[ 9.50916064e-05  8.20387886e-03  2.29881404e-02 ...  9.96969215e-03\n",
            "   4.76054089e-04  5.05618406e-03]\n",
            " [ 3.90822904e-04  1.85591276e-02  3.54386492e-04 ...  1.92354293e-03\n",
            "   4.71114751e-03 -3.68575087e-03]\n",
            " [ 5.31043513e-05  3.22629288e-03  1.15209591e-02 ...  5.33212682e-03\n",
            "  -1.78365499e-03  3.41142417e-03]\n",
            " ...\n",
            " [ 1.34372446e-04  1.11781942e-02  2.30649765e-02 ...  2.09386864e-02\n",
            "   1.78016890e-02  2.03135324e-02]\n",
            " [ 8.46707818e-04  5.13681594e-02  1.22051914e-01 ...  8.80368346e-03\n",
            "   1.36876201e-01 -7.40487247e-02]\n",
            " [ 7.81175609e-04  9.02682653e-02  4.98487176e-02 ...  8.49899658e-02\n",
            "   1.43622699e-01  6.22205028e-02]]\n",
            "(1082168, 10)\n"
          ]
        }
      ],
      "source": [
        "print(lsa_top)\n",
        "print(lsa_top.shape)  # (no_of_doc*no_of_topics)"
      ]
    },
    {
      "cell_type": "code",
      "execution_count": 38,
      "metadata": {
        "_uuid": "2a259e5f3b8c11118368439eea8de0faa8b7a1c2",
        "id": "d4dvIGIGxtAI",
        "outputId": "554136d4-9a8d-4c04-ef6a-ff2c770cb054",
        "colab": {
          "base_uri": "https://localhost:8080/"
        }
      },
      "outputs": [
        {
          "output_type": "stream",
          "name": "stdout",
          "text": [
            "Document 0 :\n",
            "Topic  0  :  0.009509160638345568\n",
            "Topic  1  :  0.8203878864694947\n",
            "Topic  2  :  2.2988140421270074\n",
            "Topic  3  :  -0.6931044402501757\n",
            "Topic  4  :  0.01598526923469361\n",
            "Topic  5  :  0.20188152110668958\n",
            "Topic  6  :  -0.40748821947696734\n",
            "Topic  7  :  0.9969692145990025\n",
            "Topic  8  :  0.0476054089207299\n",
            "Topic  9  :  0.5056184059339724\n"
          ]
        }
      ],
      "source": [
        "l=lsa_top[0]\n",
        "print(\"Document 0 :\")\n",
        "for i,topic in enumerate(l):\n",
        "  print(\"Topic \",i,\" : \",topic*100)\n",
        "  \n"
      ]
    },
    {
      "cell_type": "markdown",
      "metadata": {
        "_uuid": "2153bcbf45e7623efc213bb94f0dbba377ff34c3",
        "id": "Y0YuhhxOCCqz"
      },
      "source": [
        "Similalry for other documents we can do this. However note that values dont add to 1 as in LSA it is not probabiltiy of a topic in a document."
      ]
    },
    {
      "cell_type": "code",
      "execution_count": 39,
      "metadata": {
        "_uuid": "61bb8ff8b4b6cf0cd2fcde7890f3a3ebb8980452",
        "id": "AI2kOuwitOGp",
        "outputId": "f1561e14-1d93-4be2-bba1-6d1c2f2670cd",
        "colab": {
          "base_uri": "https://localhost:8080/"
        }
      },
      "outputs": [
        {
          "output_type": "stream",
          "name": "stdout",
          "text": [
            "(10, 1000)\n",
            "[[ 1.56033728e-05  2.10761799e-05  5.42364683e-05 ...  5.71771743e-05\n",
            "   2.81267960e-05  3.36323310e-05]\n",
            " [ 6.45566592e-04  9.33495758e-04  1.04738551e-03 ...  1.34443635e-03\n",
            "   1.98843741e-03  2.20249468e-03]\n",
            " [ 2.17425277e-03  3.35943169e-03  3.74732014e-03 ...  3.60945249e-03\n",
            "   3.98706179e-03  5.21836758e-03]\n",
            " ...\n",
            " [ 1.55521073e-03  2.43851931e-03  2.33411382e-03 ... -1.29444762e-03\n",
            "   1.97934390e-03  1.69314976e-03]\n",
            " [ 1.53539005e-03  2.81046492e-03  2.31611254e-03 ... -2.93502217e-04\n",
            "  -1.31244148e-03  4.09042107e-04]\n",
            " [ 1.91654809e-03  2.95546829e-03  2.98333576e-03 ...  2.68298306e-04\n",
            "   1.48601651e-03  5.94729158e-04]]\n"
          ]
        }
      ],
      "source": [
        "print(lsa_model.components_.shape) # (no_of_topics*no_of_words)\n",
        "print(lsa_model.components_)"
      ]
    },
    {
      "cell_type": "code",
      "execution_count": 39,
      "metadata": {
        "_uuid": "6f834000fa7b2f294694572fda0bcf56d25badd6",
        "id": "t3WD2pILCCq0"
      },
      "outputs": [],
      "source": []
    },
    {
      "cell_type": "markdown",
      "metadata": {
        "_uuid": "a289f6e017d0c573d20ed386582df71437fab5cc",
        "id": "hFPsw0aWCCq0"
      },
      "source": [
        "#### Now e can get a list of the important words for each of the 10 topics as shown. For simplicity here I have shown 10 words for each topic."
      ]
    },
    {
      "cell_type": "code",
      "execution_count": 41,
      "metadata": {
        "_uuid": "c9860197f6d11e5583629cca322e19a93d4c0350",
        "id": "GMMmSTbQqfdz",
        "outputId": "46dbaf37-771e-4cf2-c75b-bd058e6c1b4f",
        "colab": {
          "base_uri": "https://localhost:8080/"
        }
      },
      "outputs": [
        {
          "output_type": "stream",
          "name": "stdout",
          "text": [
            "Topic 0: \n",
            "interview extended michael john david smith james andrew police mark \n",
            "\n",
            "Topic 1: \n",
            "police death probe crash woman court missing investigate search drug \n",
            "\n",
            "Topic 2: \n",
            "say plan council govt court water australia report face change \n",
            "\n",
            "Topic 3: \n",
            "say australia court world australian woman report death minister need \n",
            "\n",
            "Topic 4: \n",
            "court face woman murder charge accused charged death crash drug \n",
            "\n",
            "Topic 5: \n",
            "australia world south australian test report year woman win lead \n",
            "\n",
            "Topic 6: \n",
            "council australia rate say rise seek election land considers court \n",
            "\n",
            "Topic 7: \n",
            "govt crash report woman urged australian dy death hospital claim \n",
            "\n",
            "Topic 8: \n",
            "crash woman charged dy death plan killed australian sydney year \n",
            "\n",
            "Topic 9: \n",
            "report australian water open market year win death health rise \n",
            "\n"
          ]
        }
      ],
      "source": [
        "# most important words for each topic\n",
        "vocab = vect.get_feature_names_out()\n",
        "\n",
        "for i, comp in enumerate(lsa_model.components_):\n",
        "    vocab_comp = zip(vocab, comp)\n",
        "    sorted_words = sorted(vocab_comp, key= lambda x:x[1], reverse=True)[:10]\n",
        "    print(\"Topic \"+str(i)+\": \")\n",
        "    for t in sorted_words:\n",
        "        print(t[0],end=\" \")\n",
        "    print(\"\\n\")\n",
        "         "
      ]
    },
    {
      "cell_type": "code",
      "execution_count": 41,
      "metadata": {
        "_uuid": "15fc699124fc73b2974081fd6e85752cbd9cd440",
        "id": "zciN8KlGCCq0"
      },
      "outputs": [],
      "source": []
    },
    {
      "cell_type": "markdown",
      "metadata": {
        "_uuid": "2898911f7af52671923cf6bbc8cab6bc7871aa59",
        "id": "gmMeb4METhm2"
      },
      "source": [
        "## Latent Dirichlet Allocation (LDA)  "
      ]
    },
    {
      "cell_type": "markdown",
      "metadata": {
        "_uuid": "dd861ec68f8272be78421f8bd76b98793009e836",
        "id": "79cCPq4uCCq1"
      },
      "source": [
        "LDA is the most popular technique.**The topics then generate words based on their probability distribution. Given a dataset of documents, LDA backtracks and tries to figure out what topics would create those documents in the first place.**\n",
        "\n",
        "**To understand the maths it seems as if knowledge of Dirichlet distribution (distribution of distributions) is required which is quite intricate and left fior now.**\n",
        "\n",
        "To get an inituitive explanation of LDA checkout these blogs: [this](https://www.analyticsvidhya.com/blog/2016/08/beginners-guide-to-topic-modeling-in-python/)  ,  [this](https://tedunderwood.com/2012/04/07/topic-modeling-made-just-simple-enough/)  ,[this](https://en.wikipedia.org/wiki/Topic_model)  ,  [this kernel on Kaggle](https://www.kaggle.com/arthurtok/spooky-nlp-and-topic-modelling-tutorial)  ,  [this](http://blog.echen.me/2011/08/22/introduction-to-latent-dirichlet-allocation/) ."
      ]
    },
    {
      "cell_type": "code",
      "execution_count": 42,
      "metadata": {
        "_uuid": "b21a29802cac8f469c65df49ba0ef04f592f3202",
        "id": "yPJFHVxxTiwh"
      },
      "outputs": [],
      "source": [
        "from sklearn.decomposition import LatentDirichletAllocation\n",
        "lda_model=LatentDirichletAllocation(n_components=10,learning_method='online',random_state=42,max_iter=1) \n",
        "# n_components is the number of topics"
      ]
    },
    {
      "cell_type": "code",
      "execution_count": 43,
      "metadata": {
        "_uuid": "8c0169b02a356e8cf8583218437d23f549c1e3da",
        "id": "aeUPTUUIazvB"
      },
      "outputs": [],
      "source": [
        "lda_top=lda_model.fit_transform(vect_text)"
      ]
    },
    {
      "cell_type": "code",
      "execution_count": 44,
      "metadata": {
        "_uuid": "77425315af5c000fa30caefd6dcebb70c2970cfa",
        "id": "h8LzsFixdkBt",
        "outputId": "d3cf6433-5a39-48a3-e98c-947524031649",
        "colab": {
          "base_uri": "https://localhost:8080/"
        }
      },
      "outputs": [
        {
          "output_type": "stream",
          "name": "stdout",
          "text": [
            "(1082168, 10)\n",
            "[[0.04157021 0.04157021 0.04157021 ... 0.04157021 0.62586807 0.04157021]\n",
            " [0.05       0.05       0.05       ... 0.05       0.55       0.05      ]\n",
            " [0.03661043 0.03661043 0.03661043 ... 0.03661043 0.03661043 0.03661043]\n",
            " ...\n",
            " [0.24511154 0.03660825 0.03660825 ... 0.03660825 0.25451989 0.03660825]\n",
            " [0.16689446 0.03099384 0.15798299 ... 0.03099384 0.03099384 0.15598726]\n",
            " [0.05       0.05       0.05       ... 0.05       0.55       0.05      ]]\n"
          ]
        }
      ],
      "source": [
        "print(lda_top.shape)  # (no_of_doc,no_of_topics)\n",
        "print(lda_top)\n"
      ]
    },
    {
      "cell_type": "code",
      "execution_count": 45,
      "metadata": {
        "_uuid": "2fc450b8316e62d050eb702b65eddbb1e898248f",
        "id": "YNgP0S0eeVuO",
        "outputId": "dec3a321-4b07-46bd-f20e-5e16d8fe4479",
        "colab": {
          "base_uri": "https://localhost:8080/"
        }
      },
      "outputs": [
        {
          "output_type": "stream",
          "name": "stdout",
          "text": [
            "1.0\n"
          ]
        }
      ],
      "source": [
        "sum=0\n",
        "for i in lda_top[0]:\n",
        "  sum=sum+i\n",
        "print(sum)  "
      ]
    },
    {
      "cell_type": "markdown",
      "metadata": {
        "_uuid": "0f6d8a55e8a513a9af61ae480eae5a0e2135f182",
        "id": "v0TpFCWMCCq2"
      },
      "source": [
        "#### Note that the values in a particular row adds to 1. This is beacuse each value denotes the % of contribution of the corressponding topic in the document."
      ]
    },
    {
      "cell_type": "code",
      "execution_count": 46,
      "metadata": {
        "_uuid": "d896b8fcf2c398367de4e7b7142e144fb4944f2d",
        "id": "Z6WmZLp3ehbY",
        "outputId": "1ff9ef2f-9544-493e-ca03-b18d8de2b8a2",
        "colab": {
          "base_uri": "https://localhost:8080/"
        }
      },
      "outputs": [
        {
          "output_type": "stream",
          "name": "stdout",
          "text": [
            "Document 0: \n",
            "Topic  0 :  4.157021456357171 %\n",
            "Topic  1 :  4.157021456355388 %\n",
            "Topic  2 :  4.157021456357976 %\n",
            "Topic  3 :  4.157021456371127 %\n",
            "Topic  4 :  4.157021456360439 %\n",
            "Topic  5 :  4.157021456357027 %\n",
            "Topic  6 :  4.157021456358314 %\n",
            "Topic  7 :  4.157021456364183 %\n",
            "Topic  8 :  62.586806892754176 %\n",
            "Topic  9 :  4.157021456364205 %\n"
          ]
        }
      ],
      "source": [
        "# composition of doc 0 for eg\n",
        "print(\"Document 0: \")\n",
        "for i,topic in enumerate(lda_top[0]):\n",
        "  print(\"Topic \",i,\": \",topic*100,\"%\")"
      ]
    },
    {
      "cell_type": "markdown",
      "metadata": {
        "_uuid": "d24927b415ef64338a4b99e81c9cafd5225dfae5",
        "id": "NVgtw_L_g8N2"
      },
      "source": [
        "#### As we can see Topic 7 & 8 are dominantly present in document 0.\n",
        "\n",
        " "
      ]
    },
    {
      "cell_type": "code",
      "execution_count": 47,
      "metadata": {
        "_uuid": "3ee132a423ca0bfe3107fa3dd2652d6c33d5bc4d",
        "id": "6OFxmyReiZIU",
        "outputId": "b2450d1f-34ba-4333-9e7a-7f12cdf022e2",
        "colab": {
          "base_uri": "https://localhost:8080/"
        }
      },
      "outputs": [
        {
          "output_type": "stream",
          "name": "stdout",
          "text": [
            "[[1.00001468e-01 1.13601714e+03 1.00008834e-01 ... 1.00004700e-01\n",
            "  1.00002361e-01 1.00001898e-01]\n",
            " [1.00001161e-01 1.00001105e-01 3.50277260e+03 ... 1.00003992e-01\n",
            "  1.00002061e-01 1.00004829e-01]\n",
            " [1.00000540e-01 1.00001365e-01 1.00002506e-01 ... 1.00004465e-01\n",
            "  1.00004096e-01 1.00005418e-01]\n",
            " ...\n",
            " [1.00001267e-01 1.00002038e-01 1.00006392e-01 ... 1.00004327e-01\n",
            "  1.00001437e-01 1.00002768e-01]\n",
            " [3.51788362e+02 1.00001372e-01 1.00004288e-01 ... 1.80531842e+03\n",
            "  1.51831176e+02 1.00002837e-01]\n",
            " [1.00001445e-01 1.00001502e-01 1.00005750e-01 ... 1.00009557e-01\n",
            "  1.00001294e-01 1.00007227e-01]]\n",
            "(10, 1000)\n"
          ]
        }
      ],
      "source": [
        "print(lda_model.components_)\n",
        "print(lda_model.components_.shape)  # (no_of_topics*no_of_words)"
      ]
    },
    {
      "cell_type": "markdown",
      "metadata": {
        "_uuid": "8bf169b07cefbe2cd8e36bc1e2bd65ca7c398374",
        "id": "NoEr9qt1jgsM"
      },
      "source": [
        "#### Most important words for a topic. (say 10 this time.)"
      ]
    },
    {
      "cell_type": "code",
      "execution_count": 49,
      "metadata": {
        "_uuid": "5c13c5563657ac5103a33615272320065542fb40",
        "id": "hKJHM0C-l0an",
        "outputId": "9156cb92-3295-4484-8964-c19d06e4442a",
        "colab": {
          "base_uri": "https://localhost:8080/"
        }
      },
      "outputs": [
        {
          "output_type": "stream",
          "name": "stdout",
          "text": [
            "Topic 0: \n",
            "australian world interview country north state hospital dy west budget \n",
            "\n",
            "Topic 1: \n",
            "trump year melbourne queensland 2016 market league power share 2015 \n",
            "\n",
            "Topic 2: \n",
            "police woman child school open plan farmer accused driver industry \n",
            "\n",
            "Topic 3: \n",
            "say change health minister news case fall killed return mother \n",
            "\n",
            "Topic 4: \n",
            "government south canberra home life brisbane crash win labor island \n",
            "\n",
            "Topic 5: \n",
            "court murder rural china drug indigenous face price charge claim \n",
            "\n",
            "Topic 6: \n",
            "adelaide perth report test hour trial make victorian federal darwin \n",
            "\n",
            "Topic 7: \n",
            "sydney charged national house council final help turnbull funding water \n",
            "\n",
            "Topic 8: \n",
            "election death attack tasmania family people community time live service \n",
            "\n",
            "Topic 9: \n",
            "australia coast tasmanian victoria gold missing road john million search \n",
            "\n"
          ]
        }
      ],
      "source": [
        "# most important words for each topic\n",
        "vocab = vect.get_feature_names_out()\n",
        "\n",
        "for i, comp in enumerate(lda_model.components_):\n",
        "    vocab_comp = zip(vocab, comp)\n",
        "    sorted_words = sorted(vocab_comp, key= lambda x:x[1], reverse=True)[:10]\n",
        "    print(\"Topic \"+str(i)+\": \")\n",
        "    for t in sorted_words:\n",
        "        print(t[0],end=\" \")\n",
        "    print(\"\\n\")"
      ]
    },
    {
      "cell_type": "code",
      "execution_count": 49,
      "metadata": {
        "_uuid": "a094d2d6e95dc236b2bd3d70c69d1b3767cb4cea",
        "id": "YEQMeEjhCCq4"
      },
      "outputs": [],
      "source": []
    },
    {
      "cell_type": "markdown",
      "metadata": {
        "_uuid": "854f0eb88cf78923db8137a2f41581eb9bbd5592",
        "id": "dkWIlmebCCq4"
      },
      "source": [
        "#### To better visualize words in a topic we can see the word cloud. For each topic top 50 words are plotted."
      ]
    },
    {
      "cell_type": "code",
      "execution_count": 50,
      "metadata": {
        "_uuid": "5221ae4de021107ef757b87d45053460e50582c8",
        "id": "_ac73PUhmZmn"
      },
      "outputs": [],
      "source": [
        "from wordcloud import WordCloud\n",
        "# Generate a word cloud image for given topic\n",
        "def draw_word_cloud(index):\n",
        "  imp_words_topic=\"\"\n",
        "  comp=lda_model.components_[index]\n",
        "  vocab_comp = zip(vocab, comp)\n",
        "  sorted_words = sorted(vocab_comp, key= lambda x:x[1], reverse=True)[:50]\n",
        "  for word in sorted_words:\n",
        "    imp_words_topic=imp_words_topic+\" \"+word[0]\n",
        "\n",
        "  wordcloud = WordCloud(width=600, height=400).generate(imp_words_topic)\n",
        "  plt.figure( figsize=(5,5))\n",
        "  plt.imshow(wordcloud)\n",
        "  plt.axis(\"off\")\n",
        "  plt.tight_layout()\n",
        "  plt.show()\n",
        " "
      ]
    },
    {
      "cell_type": "code",
      "execution_count": 51,
      "metadata": {
        "_uuid": "e5246db8bb1b751a1f3b96bb65d4da9e34dfc2ba",
        "id": "-tD4nZdRqnAk",
        "outputId": "f41513e1-26d0-44c0-99a3-372765286492",
        "colab": {
          "base_uri": "https://localhost:8080/",
          "height": 346
        }
      },
      "outputs": [
        {
          "output_type": "display_data",
          "data": {
            "text/plain": [
              "<Figure size 500x500 with 1 Axes>"
            ],
            "image/png": "[encoded data removed]"
          },
          "metadata": {}
        }
      ],
      "source": [
        "# topic 0\n",
        "draw_word_cloud(0)"
      ]
    },
    {
      "cell_type": "code",
      "execution_count": 52,
      "metadata": {
        "_uuid": "74872c17b12680171090690f62ce77019e03ef52",
        "id": "Jz_zGbSws1ns",
        "outputId": "55e6aa12-9577-4935-c096-df8e2e0b1055",
        "colab": {
          "base_uri": "https://localhost:8080/",
          "height": 346
        }
      },
      "outputs": [
        {
          "output_type": "display_data",
          "data": {
            "text/plain": [
              "<Figure size 500x500 with 1 Axes>"
            ],
            "image/png": "[encoded data removed]"
          },
          "metadata": {}
        }
      ],
      "source": [
        "# topic 1\n",
        "draw_word_cloud(1)  # ..."
      ]
    },
    {
      "cell_type": "code",
      "execution_count": 52,
      "metadata": {
        "_uuid": "a71cd3aa1fa1834f11023bbd98a0a4b558f5b8c7",
        "id": "gkhvmGMds6BV"
      },
      "outputs": [],
      "source": []
    },
    {
      "cell_type": "markdown",
      "metadata": {
        "_uuid": "2e5a0755a89a138ba157a57502bb6f6d8df8577a",
        "id": "NEskjeTZCCq5"
      },
      "source": [
        "## THE END !!!"
      ]
    },
    {
      "cell_type": "markdown",
      "metadata": {
        "_uuid": "bae1e1f367c3c9b3ebc8b60bc5c3568c131fb1d9",
        "id": "l1bfd7UdCCq5"
      },
      "source": [
        "## [Please star/upvote in case u liked it. ]"
      ]
    },
    {
      "cell_type": "code",
      "execution_count": 52,
      "metadata": {
        "_uuid": "220f0c0b4fc78848f66ee48aa11b91c3f3f7838a",
        "id": "h2uCDBONCCq6"
      },
      "outputs": [],
      "source": []
    }
  ],
  "metadata": {
    "kernelspec": {
      "display_name": "Python 3",
      "language": "python",
      "name": "python3"
    },
    "language_info": {
      "codemirror_mode": {
        "name": "ipython",
        "version": 3
      },
      "file_extension": ".py",
      "mimetype": "text/x-python",
      "name": "python",
      "nbconvert_exporter": "python",
      "pygments_lexer": "ipython3",
      "version": "3.6.4"
    },
    "colab": {
      "provenance": []
    }
  },
  "nbformat": 4,
  "nbformat_minor": 0
}